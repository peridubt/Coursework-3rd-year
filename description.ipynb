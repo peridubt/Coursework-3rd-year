{
 "cells": [
  {
   "metadata": {},
   "cell_type": "markdown",
   "source": [
    "# Описание\n",
    "\n",
    "1. Импорт OSMnx:\n",
    "- import osmnx as ox импортирует библиотеку OSMnx для работы с данными OpenStreetMap.\n",
    "\n",
    "2. Определение координат:\n",
    "- north, south, east, west — это координаты ограничивающего прямоугольника, определяющего область вашей карты. Вы можете использовать онлайн-карты, такие как Google Maps, для определения координат.\n",
    "\n",
    "3. Загрузка графа:\n",
    "- graph = ox.graph_from_bbox(north, south, east, west, network_type='drive') загружает карту в виде графа с помощью OSMnx. \n",
    "- network_type='drive' указывает, что вы хотите загрузить дорожную сеть. Вы также можете выбрать walk, bike, all или all_private.\n",
    "\n",
    "4. Визуализация графа:\n",
    "- ox.plot_graph(graph) визуализирует загруженный граф.\n",
    "\n",
    "5. Доступ к атрибутам:\n",
    "- graph.nodes(data=True) и graph.edges(data=True) дают вам доступ к атрибутам узлов и ребер графа соответственно. Вы можете использовать эти атрибуты для дальнейшего анализа и обработки данных.\n",
    "\n",
    "### Примеры атрибутов узлов и ребер\n",
    "\n",
    " ### Узлы:\n",
    "- 'osmid': Идентификатор узла в OSM.\n",
    "- 'x': Координата X (долгота).\n",
    "- 'y': Координата Y (широта).\n",
    "- 'highway': Тип дороги, например, 'primary', 'secondary', 'residential'.\n",
    "\n",
    " ### Ребра:\n",
    "- 'osmid': Идентификатор ребра в OSM.\n",
    "- 'u': Идентификатор начального узла ребра.\n",
    "- 'v': Идентификатор конечного узла ребра.\n",
    "- 'length': Длина ребра в метрах.\n",
    "- 'highway': Тип дороги, например, 'primary', 'secondary', 'residential'.\n",
    "    "
   ],
   "id": "65aa1d742828c0e"
  },
  {
   "metadata": {},
   "cell_type": "markdown",
   "source": [
    "### Как составить правильно область для графа\n",
    "Возьмём 2 точки: (51.64, 39.08), (51.63, 39.11). Нам нужно получить параметры для севера, юга, востока и запада. В данном случае это будет распределено так:\n",
    "```python\n",
    "north, south, east, west = 51.64, 51.63, 39.11, 39.08\n",
    "```"
   ],
   "id": "2ea2d994427a25c8"
  }
 ],
 "metadata": {
  "kernelspec": {
   "display_name": "Python 3",
   "language": "python",
   "name": "python3"
  },
  "language_info": {
   "codemirror_mode": {
    "name": "ipython",
    "version": 2
   },
   "file_extension": ".py",
   "mimetype": "text/x-python",
   "name": "python",
   "nbconvert_exporter": "python",
   "pygments_lexer": "ipython2",
   "version": "2.7.6"
  }
 },
 "nbformat": 4,
 "nbformat_minor": 5
}
